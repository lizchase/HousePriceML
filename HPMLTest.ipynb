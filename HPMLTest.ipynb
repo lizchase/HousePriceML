{
  "nbformat": 4,
  "nbformat_minor": 0,
  "metadata": {
    "colab": {
      "provenance": []
    },
    "kernelspec": {
      "name": "python3",
      "display_name": "Python 3"
    },
    "language_info": {
      "name": "python"
    }
  },
  "cells": [
    {
      "cell_type": "code",
      "execution_count": 1,
      "metadata": {
        "id": "oagxGFq2SlzF"
      },
      "outputs": [],
      "source": [
        "import numpy as np\n",
        "import pickle"
      ]
    },
    {
      "cell_type": "code",
      "source": [
        "model = pickle.load(open('/content/drive/MyDrive/Colab Notebooks/Predictive Analytics Course/Projects/House Price Prediction/model.pkl','rb'))"
      ],
      "metadata": {
        "id": "sMhsBDDeTBDS"
      },
      "execution_count": 2,
      "outputs": []
    },
    {
      "cell_type": "code",
      "source": [
        "test_x = np.zeros((1, 4))\n",
        "test_x"
      ],
      "metadata": {
        "colab": {
          "base_uri": "https://localhost:8080/"
        },
        "id": "0kiG4s-VTA_g",
        "outputId": "54622f88-d47c-4719-ebc5-426998efed0f"
      },
      "execution_count": 3,
      "outputs": [
        {
          "output_type": "execute_result",
          "data": {
            "text/plain": [
              "array([[0., 0., 0., 0.]])"
            ]
          },
          "metadata": {},
          "execution_count": 3
        }
      ]
    },
    {
      "cell_type": "code",
      "source": [
        "test_x[0, 0] = 1180         # sqft_living   -- int\n",
        "test_x[0, 1] = 3            # bedrooms      -- int\n",
        "test_x[0, 2] = 1.0          # bathrooms     -- float\n",
        "test_x[0, 3] = 1.0           # floors        -- Float"
      ],
      "metadata": {
        "id": "X-sH7up6TA8l"
      },
      "execution_count": 4,
      "outputs": []
    },
    {
      "cell_type": "code",
      "source": [
        "prediction = model.predict(test_x)\n",
        "print(f'The model {model} predicts a price for a house of ${round(float(prediction[0]), 2)}')"
      ],
      "metadata": {
        "colab": {
          "base_uri": "https://localhost:8080/"
        },
        "id": "dcpgWio9TA5F",
        "outputId": "9b869e74-2df9-428b-b9a6-8f53e7483099"
      },
      "execution_count": 7,
      "outputs": [
        {
          "output_type": "stream",
          "name": "stdout",
          "text": [
            "The model RandomForestRegressor() predicts a price for a house of $275754.18\n"
          ]
        }
      ]
    },
    {
      "cell_type": "code",
      "source": [],
      "metadata": {
        "id": "UL452Z-DTA2C"
      },
      "execution_count": null,
      "outputs": []
    },
    {
      "cell_type": "code",
      "source": [],
      "metadata": {
        "id": "K9gqHuRmTAze"
      },
      "execution_count": null,
      "outputs": []
    }
  ]
}